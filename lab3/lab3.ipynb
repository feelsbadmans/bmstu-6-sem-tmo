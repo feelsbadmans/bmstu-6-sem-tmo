{
 "cells": [
  {
   "cell_type": "markdown",
   "metadata": {},
   "source": [
    "# Лабораторная работа №3\n",
    "#### Подготовка обучающей и тестовой выборки, кросс-валидация и подбор гиперпараметров на примере метода ближайших соседей."
   ]
  },
  {
   "cell_type": "markdown",
   "metadata": {},
   "source": [
    "- Импорт необходимых библиотек, создание DataFraim'a"
   ]
  },
  {
   "cell_type": "code",
   "execution_count": 454,
   "metadata": {},
   "outputs": [],
   "source": [
    "import numpy as np\n",
    "import pandas as pd\n",
    "import seaborn as sns\n",
    "import matplotlib.pyplot as plt\n",
    "\n",
    "df = pd.read_csv('data/WineQT.csv')"
   ]
  },
  {
   "cell_type": "markdown",
   "metadata": {},
   "source": [
    "#### Анализ датасета"
   ]
  },
  {
   "cell_type": "code",
   "execution_count": 455,
   "metadata": {},
   "outputs": [
    {
     "name": "stdout",
     "output_type": "stream",
     "text": [
      "<class 'pandas.core.frame.DataFrame'>\n",
      "RangeIndex: 1143 entries, 0 to 1142\n",
      "Data columns (total 13 columns):\n",
      " #   Column                Non-Null Count  Dtype  \n",
      "---  ------                --------------  -----  \n",
      " 0   fixed acidity         1143 non-null   float64\n",
      " 1   volatile acidity      1143 non-null   float64\n",
      " 2   citric acid           1143 non-null   float64\n",
      " 3   residual sugar        1143 non-null   float64\n",
      " 4   chlorides             1143 non-null   float64\n",
      " 5   free sulfur dioxide   1143 non-null   float64\n",
      " 6   total sulfur dioxide  1143 non-null   float64\n",
      " 7   density               1143 non-null   float64\n",
      " 8   pH                    1143 non-null   float64\n",
      " 9   sulphates             1143 non-null   float64\n",
      " 10  alcohol               1143 non-null   float64\n",
      " 11  quality               1143 non-null   int64  \n",
      " 12  Id                    1143 non-null   int64  \n",
      "dtypes: float64(11), int64(2)\n",
      "memory usage: 116.2 KB\n"
     ]
    }
   ],
   "source": [
    "df.info()"
   ]
  },
  {
   "cell_type": "markdown",
   "metadata": {},
   "source": [
    "- Датасет имеет 12 колонок и 1143 строк"
   ]
  },
  {
   "cell_type": "code",
   "execution_count": 456,
   "metadata": {},
   "outputs": [
    {
     "data": {
      "text/html": [
       "<div>\n",
       "<style scoped>\n",
       "    .dataframe tbody tr th:only-of-type {\n",
       "        vertical-align: middle;\n",
       "    }\n",
       "\n",
       "    .dataframe tbody tr th {\n",
       "        vertical-align: top;\n",
       "    }\n",
       "\n",
       "    .dataframe thead th {\n",
       "        text-align: right;\n",
       "    }\n",
       "</style>\n",
       "<table border=\"1\" class=\"dataframe\">\n",
       "  <thead>\n",
       "    <tr style=\"text-align: right;\">\n",
       "      <th></th>\n",
       "      <th>fixed acidity</th>\n",
       "      <th>volatile acidity</th>\n",
       "      <th>citric acid</th>\n",
       "      <th>residual sugar</th>\n",
       "      <th>chlorides</th>\n",
       "      <th>free sulfur dioxide</th>\n",
       "      <th>total sulfur dioxide</th>\n",
       "      <th>density</th>\n",
       "      <th>pH</th>\n",
       "      <th>sulphates</th>\n",
       "      <th>alcohol</th>\n",
       "      <th>quality</th>\n",
       "      <th>Id</th>\n",
       "    </tr>\n",
       "  </thead>\n",
       "  <tbody>\n",
       "    <tr>\n",
       "      <th>0</th>\n",
       "      <td>7.4</td>\n",
       "      <td>0.70</td>\n",
       "      <td>0.00</td>\n",
       "      <td>1.9</td>\n",
       "      <td>0.076</td>\n",
       "      <td>11.0</td>\n",
       "      <td>34.0</td>\n",
       "      <td>0.9978</td>\n",
       "      <td>3.51</td>\n",
       "      <td>0.56</td>\n",
       "      <td>9.4</td>\n",
       "      <td>5</td>\n",
       "      <td>0</td>\n",
       "    </tr>\n",
       "    <tr>\n",
       "      <th>1</th>\n",
       "      <td>7.8</td>\n",
       "      <td>0.88</td>\n",
       "      <td>0.00</td>\n",
       "      <td>2.6</td>\n",
       "      <td>0.098</td>\n",
       "      <td>25.0</td>\n",
       "      <td>67.0</td>\n",
       "      <td>0.9968</td>\n",
       "      <td>3.20</td>\n",
       "      <td>0.68</td>\n",
       "      <td>9.8</td>\n",
       "      <td>5</td>\n",
       "      <td>1</td>\n",
       "    </tr>\n",
       "    <tr>\n",
       "      <th>2</th>\n",
       "      <td>7.8</td>\n",
       "      <td>0.76</td>\n",
       "      <td>0.04</td>\n",
       "      <td>2.3</td>\n",
       "      <td>0.092</td>\n",
       "      <td>15.0</td>\n",
       "      <td>54.0</td>\n",
       "      <td>0.9970</td>\n",
       "      <td>3.26</td>\n",
       "      <td>0.65</td>\n",
       "      <td>9.8</td>\n",
       "      <td>5</td>\n",
       "      <td>2</td>\n",
       "    </tr>\n",
       "    <tr>\n",
       "      <th>3</th>\n",
       "      <td>11.2</td>\n",
       "      <td>0.28</td>\n",
       "      <td>0.56</td>\n",
       "      <td>1.9</td>\n",
       "      <td>0.075</td>\n",
       "      <td>17.0</td>\n",
       "      <td>60.0</td>\n",
       "      <td>0.9980</td>\n",
       "      <td>3.16</td>\n",
       "      <td>0.58</td>\n",
       "      <td>9.8</td>\n",
       "      <td>6</td>\n",
       "      <td>3</td>\n",
       "    </tr>\n",
       "    <tr>\n",
       "      <th>4</th>\n",
       "      <td>7.4</td>\n",
       "      <td>0.70</td>\n",
       "      <td>0.00</td>\n",
       "      <td>1.9</td>\n",
       "      <td>0.076</td>\n",
       "      <td>11.0</td>\n",
       "      <td>34.0</td>\n",
       "      <td>0.9978</td>\n",
       "      <td>3.51</td>\n",
       "      <td>0.56</td>\n",
       "      <td>9.4</td>\n",
       "      <td>5</td>\n",
       "      <td>4</td>\n",
       "    </tr>\n",
       "  </tbody>\n",
       "</table>\n",
       "</div>"
      ],
      "text/plain": [
       "   fixed acidity  volatile acidity  citric acid  residual sugar  chlorides  \\\n",
       "0            7.4              0.70         0.00             1.9      0.076   \n",
       "1            7.8              0.88         0.00             2.6      0.098   \n",
       "2            7.8              0.76         0.04             2.3      0.092   \n",
       "3           11.2              0.28         0.56             1.9      0.075   \n",
       "4            7.4              0.70         0.00             1.9      0.076   \n",
       "\n",
       "   free sulfur dioxide  total sulfur dioxide  density    pH  sulphates  \\\n",
       "0                 11.0                  34.0   0.9978  3.51       0.56   \n",
       "1                 25.0                  67.0   0.9968  3.20       0.68   \n",
       "2                 15.0                  54.0   0.9970  3.26       0.65   \n",
       "3                 17.0                  60.0   0.9980  3.16       0.58   \n",
       "4                 11.0                  34.0   0.9978  3.51       0.56   \n",
       "\n",
       "   alcohol  quality  Id  \n",
       "0      9.4        5   0  \n",
       "1      9.8        5   1  \n",
       "2      9.8        5   2  \n",
       "3      9.8        6   3  \n",
       "4      9.4        5   4  "
      ]
     },
     "execution_count": 456,
     "metadata": {},
     "output_type": "execute_result"
    }
   ],
   "source": [
    "df.head()"
   ]
  },
  {
   "cell_type": "code",
   "execution_count": 457,
   "metadata": {},
   "outputs": [
    {
     "name": "stdout",
     "output_type": "stream",
     "text": [
      "\n",
      "Столбец fixed acidity (тип float64) имеет 0 пропусков из 1143 значений, 0.0% (индекс 0)\n",
      "\n",
      "Столбец volatile acidity (тип float64) имеет 0 пропусков из 1143 значений, 0.0% (индекс 1)\n",
      "\n",
      "Столбец citric acid (тип float64) имеет 0 пропусков из 1143 значений, 0.0% (индекс 2)\n",
      "\n",
      "Столбец residual sugar (тип float64) имеет 0 пропусков из 1143 значений, 0.0% (индекс 3)\n",
      "\n",
      "Столбец chlorides (тип float64) имеет 0 пропусков из 1143 значений, 0.0% (индекс 4)\n",
      "\n",
      "Столбец free sulfur dioxide (тип float64) имеет 0 пропусков из 1143 значений, 0.0% (индекс 5)\n",
      "\n",
      "Столбец total sulfur dioxide (тип float64) имеет 0 пропусков из 1143 значений, 0.0% (индекс 6)\n",
      "\n",
      "Столбец density (тип float64) имеет 0 пропусков из 1143 значений, 0.0% (индекс 7)\n",
      "\n",
      "Столбец pH (тип float64) имеет 0 пропусков из 1143 значений, 0.0% (индекс 8)\n",
      "\n",
      "Столбец sulphates (тип float64) имеет 0 пропусков из 1143 значений, 0.0% (индекс 9)\n",
      "\n",
      "Столбец alcohol (тип float64) имеет 0 пропусков из 1143 значений, 0.0% (индекс 10)\n",
      "\n",
      "Столбец quality (тип int64) имеет 0 пропусков из 1143 значений, 0.0% (индекс 11)\n",
      "\n",
      "Столбец Id (тип int64) имеет 0 пропусков из 1143 значений, 0.0% (индекс 12)\n"
     ]
    }
   ],
   "source": [
    "import os\n",
    "import sys\n",
    "module_path = os.path.abspath(os.path.join('..'))\n",
    "if module_path not in sys.path:\n",
    "    sys.path.append(module_path)\n",
    "\n",
    "from lab2.utils import get_df_info\n",
    "        \n",
    "get_df_info(df)"
   ]
  },
  {
   "cell_type": "markdown",
   "metadata": {},
   "source": [
    "- Во всех столбцах нет пропусков"
   ]
  },
  {
   "cell_type": "code",
   "execution_count": 458,
   "metadata": {},
   "outputs": [
    {
     "data": {
      "text/plain": [
       "<AxesSubplot:>"
      ]
     },
     "execution_count": 458,
     "metadata": {},
     "output_type": "execute_result"
    },
    {
     "data": {
      "image/png": "[encoded data removed]",
      "text/plain": [
       "<Figure size 720x720 with 2 Axes>"
      ]
     },
     "metadata": {
      "needs_background": "light"
     },
     "output_type": "display_data"
    }
   ],
   "source": [
    "fig, ax = plt.subplots(1, 1, sharex='col', sharey='row', figsize=(10, 10))\n",
    "sns.heatmap(df.corr(), annot=True, cmap='PiYG', fmt='.2f')\n"
   ]
  },
  {
   "cell_type": "markdown",
   "metadata": {},
   "source": [
    "> Выберем параметры \"quality\" и \"fixed acidity\" как целевые"
   ]
  },
  {
   "cell_type": "markdown",
   "metadata": {},
   "source": [
    "- Произведём отбор доп. параметров"
   ]
  },
  {
   "cell_type": "code",
   "execution_count": 459,
   "metadata": {},
   "outputs": [],
   "source": [
    "nparray = df.to_numpy()\n",
    "\n",
    "taken_cols = [0, 1, 2, 7, 8, 9, 10, 11]\n",
    "taken_cols_cl = [1, 2, 9, 10, 11]"
   ]
  },
  {
   "cell_type": "code",
   "execution_count": 460,
   "metadata": {},
   "outputs": [
    {
     "data": {
      "text/html": [
       "<div>\n",
       "<style scoped>\n",
       "    .dataframe tbody tr th:only-of-type {\n",
       "        vertical-align: middle;\n",
       "    }\n",
       "\n",
       "    .dataframe tbody tr th {\n",
       "        vertical-align: top;\n",
       "    }\n",
       "\n",
       "    .dataframe thead th {\n",
       "        text-align: right;\n",
       "    }\n",
       "</style>\n",
       "<table border=\"1\" class=\"dataframe\">\n",
       "  <thead>\n",
       "    <tr style=\"text-align: right;\">\n",
       "      <th></th>\n",
       "      <th>fixed acidity</th>\n",
       "      <th>volatile acidity</th>\n",
       "      <th>citric acid</th>\n",
       "      <th>density</th>\n",
       "      <th>pH</th>\n",
       "      <th>sulphates</th>\n",
       "      <th>alcohol</th>\n",
       "      <th>quality</th>\n",
       "    </tr>\n",
       "  </thead>\n",
       "  <tbody>\n",
       "    <tr>\n",
       "      <th>0</th>\n",
       "      <td>7.4</td>\n",
       "      <td>0.70</td>\n",
       "      <td>0.00</td>\n",
       "      <td>0.9978</td>\n",
       "      <td>3.51</td>\n",
       "      <td>0.56</td>\n",
       "      <td>9.4</td>\n",
       "      <td>5.0</td>\n",
       "    </tr>\n",
       "    <tr>\n",
       "      <th>1</th>\n",
       "      <td>7.8</td>\n",
       "      <td>0.88</td>\n",
       "      <td>0.00</td>\n",
       "      <td>0.9968</td>\n",
       "      <td>3.20</td>\n",
       "      <td>0.68</td>\n",
       "      <td>9.8</td>\n",
       "      <td>5.0</td>\n",
       "    </tr>\n",
       "    <tr>\n",
       "      <th>2</th>\n",
       "      <td>7.8</td>\n",
       "      <td>0.76</td>\n",
       "      <td>0.04</td>\n",
       "      <td>0.9970</td>\n",
       "      <td>3.26</td>\n",
       "      <td>0.65</td>\n",
       "      <td>9.8</td>\n",
       "      <td>5.0</td>\n",
       "    </tr>\n",
       "    <tr>\n",
       "      <th>3</th>\n",
       "      <td>11.2</td>\n",
       "      <td>0.28</td>\n",
       "      <td>0.56</td>\n",
       "      <td>0.9980</td>\n",
       "      <td>3.16</td>\n",
       "      <td>0.58</td>\n",
       "      <td>9.8</td>\n",
       "      <td>6.0</td>\n",
       "    </tr>\n",
       "    <tr>\n",
       "      <th>4</th>\n",
       "      <td>7.4</td>\n",
       "      <td>0.70</td>\n",
       "      <td>0.00</td>\n",
       "      <td>0.9978</td>\n",
       "      <td>3.51</td>\n",
       "      <td>0.56</td>\n",
       "      <td>9.4</td>\n",
       "      <td>5.0</td>\n",
       "    </tr>\n",
       "  </tbody>\n",
       "</table>\n",
       "</div>"
      ],
      "text/plain": [
       "   fixed acidity  volatile acidity  citric acid  density    pH  sulphates  \\\n",
       "0            7.4              0.70         0.00   0.9978  3.51       0.56   \n",
       "1            7.8              0.88         0.00   0.9968  3.20       0.68   \n",
       "2            7.8              0.76         0.04   0.9970  3.26       0.65   \n",
       "3           11.2              0.28         0.56   0.9980  3.16       0.58   \n",
       "4            7.4              0.70         0.00   0.9978  3.51       0.56   \n",
       "\n",
       "   alcohol  quality  \n",
       "0      9.4      5.0  \n",
       "1      9.8      5.0  \n",
       "2      9.8      5.0  \n",
       "3      9.8      6.0  \n",
       "4      9.4      5.0  "
      ]
     },
     "execution_count": 460,
     "metadata": {},
     "output_type": "execute_result"
    }
   ],
   "source": [
    "nparray_sliced = nparray.take(taken_cols, 1)\n",
    "\n",
    "nparray_cl = nparray.take(taken_cols_cl, 1)\n",
    "\n",
    "df_sliced = pd.DataFrame(nparray_sliced, columns=df.columns.take(taken_cols))\n",
    "df_cl = pd.DataFrame(nparray_cl, columns=df.columns.take(taken_cols_cl))\n",
    "\n",
    "df_sliced.head()\n"
   ]
  },
  {
   "cell_type": "code",
   "execution_count": 461,
   "metadata": {},
   "outputs": [
    {
     "data": {
      "text/html": [
       "<div>\n",
       "<style scoped>\n",
       "    .dataframe tbody tr th:only-of-type {\n",
       "        vertical-align: middle;\n",
       "    }\n",
       "\n",
       "    .dataframe tbody tr th {\n",
       "        vertical-align: top;\n",
       "    }\n",
       "\n",
       "    .dataframe thead th {\n",
       "        text-align: right;\n",
       "    }\n",
       "</style>\n",
       "<table border=\"1\" class=\"dataframe\">\n",
       "  <thead>\n",
       "    <tr style=\"text-align: right;\">\n",
       "      <th></th>\n",
       "      <th>fixed acidity</th>\n",
       "      <th>volatile acidity</th>\n",
       "      <th>citric acid</th>\n",
       "      <th>density</th>\n",
       "      <th>pH</th>\n",
       "      <th>sulphates</th>\n",
       "      <th>alcohol</th>\n",
       "      <th>quality</th>\n",
       "    </tr>\n",
       "  </thead>\n",
       "  <tbody>\n",
       "    <tr>\n",
       "      <th>count</th>\n",
       "      <td>1143.000000</td>\n",
       "      <td>1143.000000</td>\n",
       "      <td>1143.000000</td>\n",
       "      <td>1143.000000</td>\n",
       "      <td>1143.000000</td>\n",
       "      <td>1143.000000</td>\n",
       "      <td>1143.000000</td>\n",
       "      <td>1143.000000</td>\n",
       "    </tr>\n",
       "    <tr>\n",
       "      <th>mean</th>\n",
       "      <td>8.311111</td>\n",
       "      <td>0.531339</td>\n",
       "      <td>0.268364</td>\n",
       "      <td>0.996730</td>\n",
       "      <td>3.311015</td>\n",
       "      <td>0.657708</td>\n",
       "      <td>10.442111</td>\n",
       "      <td>5.657043</td>\n",
       "    </tr>\n",
       "    <tr>\n",
       "      <th>std</th>\n",
       "      <td>1.747595</td>\n",
       "      <td>0.179633</td>\n",
       "      <td>0.196686</td>\n",
       "      <td>0.001925</td>\n",
       "      <td>0.156664</td>\n",
       "      <td>0.170399</td>\n",
       "      <td>1.082196</td>\n",
       "      <td>0.805824</td>\n",
       "    </tr>\n",
       "    <tr>\n",
       "      <th>min</th>\n",
       "      <td>4.600000</td>\n",
       "      <td>0.120000</td>\n",
       "      <td>0.000000</td>\n",
       "      <td>0.990070</td>\n",
       "      <td>2.740000</td>\n",
       "      <td>0.330000</td>\n",
       "      <td>8.400000</td>\n",
       "      <td>3.000000</td>\n",
       "    </tr>\n",
       "    <tr>\n",
       "      <th>25%</th>\n",
       "      <td>7.100000</td>\n",
       "      <td>0.392500</td>\n",
       "      <td>0.090000</td>\n",
       "      <td>0.995570</td>\n",
       "      <td>3.205000</td>\n",
       "      <td>0.550000</td>\n",
       "      <td>9.500000</td>\n",
       "      <td>5.000000</td>\n",
       "    </tr>\n",
       "    <tr>\n",
       "      <th>50%</th>\n",
       "      <td>7.900000</td>\n",
       "      <td>0.520000</td>\n",
       "      <td>0.250000</td>\n",
       "      <td>0.996680</td>\n",
       "      <td>3.310000</td>\n",
       "      <td>0.620000</td>\n",
       "      <td>10.200000</td>\n",
       "      <td>6.000000</td>\n",
       "    </tr>\n",
       "    <tr>\n",
       "      <th>75%</th>\n",
       "      <td>9.100000</td>\n",
       "      <td>0.640000</td>\n",
       "      <td>0.420000</td>\n",
       "      <td>0.997845</td>\n",
       "      <td>3.400000</td>\n",
       "      <td>0.730000</td>\n",
       "      <td>11.100000</td>\n",
       "      <td>6.000000</td>\n",
       "    </tr>\n",
       "    <tr>\n",
       "      <th>max</th>\n",
       "      <td>15.900000</td>\n",
       "      <td>1.580000</td>\n",
       "      <td>1.000000</td>\n",
       "      <td>1.003690</td>\n",
       "      <td>4.010000</td>\n",
       "      <td>2.000000</td>\n",
       "      <td>14.900000</td>\n",
       "      <td>8.000000</td>\n",
       "    </tr>\n",
       "  </tbody>\n",
       "</table>\n",
       "</div>"
      ],
      "text/plain": [
       "       fixed acidity  volatile acidity  citric acid      density           pH  \\\n",
       "count    1143.000000       1143.000000  1143.000000  1143.000000  1143.000000   \n",
       "mean        8.311111          0.531339     0.268364     0.996730     3.311015   \n",
       "std         1.747595          0.179633     0.196686     0.001925     0.156664   \n",
       "min         4.600000          0.120000     0.000000     0.990070     2.740000   \n",
       "25%         7.100000          0.392500     0.090000     0.995570     3.205000   \n",
       "50%         7.900000          0.520000     0.250000     0.996680     3.310000   \n",
       "75%         9.100000          0.640000     0.420000     0.997845     3.400000   \n",
       "max        15.900000          1.580000     1.000000     1.003690     4.010000   \n",
       "\n",
       "         sulphates      alcohol      quality  \n",
       "count  1143.000000  1143.000000  1143.000000  \n",
       "mean      0.657708    10.442111     5.657043  \n",
       "std       0.170399     1.082196     0.805824  \n",
       "min       0.330000     8.400000     3.000000  \n",
       "25%       0.550000     9.500000     5.000000  \n",
       "50%       0.620000    10.200000     6.000000  \n",
       "75%       0.730000    11.100000     6.000000  \n",
       "max       2.000000    14.900000     8.000000  "
      ]
     },
     "execution_count": 461,
     "metadata": {},
     "output_type": "execute_result"
    }
   ],
   "source": [
    "df_sliced.describe()"
   ]
  },
  {
   "cell_type": "code",
   "execution_count": 462,
   "metadata": {},
   "outputs": [
    {
     "data": {
      "text/plain": [
       "<AxesSubplot:>"
      ]
     },
     "execution_count": 462,
     "metadata": {},
     "output_type": "execute_result"
    },
    {
     "data": {
      "image/png": "[encoded data removed]",
      "text/plain": [
       "<Figure size 432x288 with 2 Axes>"
      ]
     },
     "metadata": {
      "needs_background": "light"
     },
     "output_type": "display_data"
    }
   ],
   "source": [
    "sns.heatmap(df_sliced.corr(),\n",
    "            annot=True, cmap='PiYG', fmt='.2f')"
   ]
  },
  {
   "cell_type": "code",
   "execution_count": 463,
   "metadata": {},
   "outputs": [
    {
     "name": "stdout",
     "output_type": "stream",
     "text": [
      "\n",
      "Столбец fixed acidity (тип float64) имеет 0 пропусков из 1143 значений, 0.0% (индекс 0)\n",
      "\n",
      "Столбец volatile acidity (тип float64) имеет 0 пропусков из 1143 значений, 0.0% (индекс 1)\n",
      "\n",
      "Столбец citric acid (тип float64) имеет 0 пропусков из 1143 значений, 0.0% (индекс 2)\n",
      "\n",
      "Столбец density (тип float64) имеет 0 пропусков из 1143 значений, 0.0% (индекс 3)\n",
      "\n",
      "Столбец pH (тип float64) имеет 0 пропусков из 1143 значений, 0.0% (индекс 4)\n",
      "\n",
      "Столбец sulphates (тип float64) имеет 0 пропусков из 1143 значений, 0.0% (индекс 5)\n",
      "\n",
      "Столбец alcohol (тип float64) имеет 0 пропусков из 1143 значений, 0.0% (индекс 6)\n",
      "\n",
      "Столбец quality (тип float64) имеет 0 пропусков из 1143 значений, 0.0% (индекс 7)\n"
     ]
    }
   ],
   "source": [
    "get_df_info(df_sliced)"
   ]
  },
  {
   "cell_type": "code",
   "execution_count": 464,
   "metadata": {},
   "outputs": [
    {
     "data": {
      "text/html": [
       "<div>\n",
       "<style scoped>\n",
       "    .dataframe tbody tr th:only-of-type {\n",
       "        vertical-align: middle;\n",
       "    }\n",
       "\n",
       "    .dataframe tbody tr th {\n",
       "        vertical-align: top;\n",
       "    }\n",
       "\n",
       "    .dataframe thead th {\n",
       "        text-align: right;\n",
       "    }\n",
       "</style>\n",
       "<table border=\"1\" class=\"dataframe\">\n",
       "  <thead>\n",
       "    <tr style=\"text-align: right;\">\n",
       "      <th></th>\n",
       "      <th>fixed acidity</th>\n",
       "      <th>volatile acidity</th>\n",
       "      <th>citric acid</th>\n",
       "      <th>density</th>\n",
       "      <th>pH</th>\n",
       "      <th>sulphates</th>\n",
       "      <th>alcohol</th>\n",
       "      <th>quality</th>\n",
       "    </tr>\n",
       "  </thead>\n",
       "  <tbody>\n",
       "    <tr>\n",
       "      <th>count</th>\n",
       "      <td>1143.000000</td>\n",
       "      <td>1143.000000</td>\n",
       "      <td>1143.000000</td>\n",
       "      <td>1143.000000</td>\n",
       "      <td>1143.000000</td>\n",
       "      <td>1143.000000</td>\n",
       "      <td>1143.000000</td>\n",
       "      <td>1143.000000</td>\n",
       "    </tr>\n",
       "    <tr>\n",
       "      <th>mean</th>\n",
       "      <td>0.328417</td>\n",
       "      <td>0.281739</td>\n",
       "      <td>0.268364</td>\n",
       "      <td>0.489017</td>\n",
       "      <td>0.449618</td>\n",
       "      <td>0.196232</td>\n",
       "      <td>0.314171</td>\n",
       "      <td>0.531409</td>\n",
       "    </tr>\n",
       "    <tr>\n",
       "      <th>std</th>\n",
       "      <td>0.154654</td>\n",
       "      <td>0.123036</td>\n",
       "      <td>0.196686</td>\n",
       "      <td>0.141341</td>\n",
       "      <td>0.123358</td>\n",
       "      <td>0.102035</td>\n",
       "      <td>0.166492</td>\n",
       "      <td>0.161165</td>\n",
       "    </tr>\n",
       "    <tr>\n",
       "      <th>min</th>\n",
       "      <td>0.000000</td>\n",
       "      <td>0.000000</td>\n",
       "      <td>0.000000</td>\n",
       "      <td>0.000000</td>\n",
       "      <td>0.000000</td>\n",
       "      <td>0.000000</td>\n",
       "      <td>0.000000</td>\n",
       "      <td>0.000000</td>\n",
       "    </tr>\n",
       "    <tr>\n",
       "      <th>25%</th>\n",
       "      <td>0.221239</td>\n",
       "      <td>0.186644</td>\n",
       "      <td>0.090000</td>\n",
       "      <td>0.403818</td>\n",
       "      <td>0.366142</td>\n",
       "      <td>0.131737</td>\n",
       "      <td>0.169231</td>\n",
       "      <td>0.400000</td>\n",
       "    </tr>\n",
       "    <tr>\n",
       "      <th>50%</th>\n",
       "      <td>0.292035</td>\n",
       "      <td>0.273973</td>\n",
       "      <td>0.250000</td>\n",
       "      <td>0.485316</td>\n",
       "      <td>0.448819</td>\n",
       "      <td>0.173653</td>\n",
       "      <td>0.276923</td>\n",
       "      <td>0.600000</td>\n",
       "    </tr>\n",
       "    <tr>\n",
       "      <th>75%</th>\n",
       "      <td>0.398230</td>\n",
       "      <td>0.356164</td>\n",
       "      <td>0.420000</td>\n",
       "      <td>0.570852</td>\n",
       "      <td>0.519685</td>\n",
       "      <td>0.239521</td>\n",
       "      <td>0.415385</td>\n",
       "      <td>0.600000</td>\n",
       "    </tr>\n",
       "    <tr>\n",
       "      <th>max</th>\n",
       "      <td>1.000000</td>\n",
       "      <td>1.000000</td>\n",
       "      <td>1.000000</td>\n",
       "      <td>1.000000</td>\n",
       "      <td>1.000000</td>\n",
       "      <td>1.000000</td>\n",
       "      <td>1.000000</td>\n",
       "      <td>1.000000</td>\n",
       "    </tr>\n",
       "  </tbody>\n",
       "</table>\n",
       "</div>"
      ],
      "text/plain": [
       "       fixed acidity  volatile acidity  citric acid      density           pH  \\\n",
       "count    1143.000000       1143.000000  1143.000000  1143.000000  1143.000000   \n",
       "mean        0.328417          0.281739     0.268364     0.489017     0.449618   \n",
       "std         0.154654          0.123036     0.196686     0.141341     0.123358   \n",
       "min         0.000000          0.000000     0.000000     0.000000     0.000000   \n",
       "25%         0.221239          0.186644     0.090000     0.403818     0.366142   \n",
       "50%         0.292035          0.273973     0.250000     0.485316     0.448819   \n",
       "75%         0.398230          0.356164     0.420000     0.570852     0.519685   \n",
       "max         1.000000          1.000000     1.000000     1.000000     1.000000   \n",
       "\n",
       "         sulphates      alcohol      quality  \n",
       "count  1143.000000  1143.000000  1143.000000  \n",
       "mean      0.196232     0.314171     0.531409  \n",
       "std       0.102035     0.166492     0.161165  \n",
       "min       0.000000     0.000000     0.000000  \n",
       "25%       0.131737     0.169231     0.400000  \n",
       "50%       0.173653     0.276923     0.600000  \n",
       "75%       0.239521     0.415385     0.600000  \n",
       "max       1.000000     1.000000     1.000000  "
      ]
     },
     "execution_count": 464,
     "metadata": {},
     "output_type": "execute_result"
    }
   ],
   "source": [
    "from sklearn.preprocessing import MinMaxScaler\n",
    "\n",
    "sc = MinMaxScaler()\n",
    "\n",
    "# данные для регрессии\n",
    "df_sliced_scaled = df_sliced.copy()\n",
    "\n",
    "# данные для классификации\n",
    "df_scaled_cl = df_cl.copy()\n",
    "\n",
    "columns_for_scaling = df_sliced.columns\n",
    "\n",
    "for i in columns_for_scaling:\n",
    "    df_sliced_scaled[[i]] = sc.fit_transform(df_sliced[[i]])\n",
    "\n",
    "for i in df_cl.columns:\n",
    "    if i != 'quality':\n",
    "      df_scaled_cl[[i]] = sc.fit_transform(df_cl[[i]])\n",
    "\n",
    "\n",
    "df_sliced_scaled.describe()\n"
   ]
  },
  {
   "cell_type": "code",
   "execution_count": 465,
   "metadata": {},
   "outputs": [
    {
     "data": {
      "text/plain": [
       "<AxesSubplot:>"
      ]
     },
     "execution_count": 465,
     "metadata": {},
     "output_type": "execute_result"
    },
    {
     "data": {
      "image/png": "[encoded data removed]",
      "text/plain": [
       "<Figure size 432x288 with 2 Axes>"
      ]
     },
     "metadata": {
      "needs_background": "light"
     },
     "output_type": "display_data"
    }
   ],
   "source": [
    "sns.heatmap(df_sliced_scaled.corr(),\n",
    "            annot=True, cmap='PiYG', fmt='.2f')"
   ]
  },
  {
   "cell_type": "markdown",
   "metadata": {},
   "source": [
    "#### Метод kNN"
   ]
  },
  {
   "cell_type": "code",
   "execution_count": 466,
   "metadata": {},
   "outputs": [],
   "source": [
    "data_unscaled = df_sliced\n",
    "data_scaled = df_sliced_scaled"
   ]
  },
  {
   "cell_type": "code",
   "execution_count": 467,
   "metadata": {},
   "outputs": [
    {
     "data": {
      "text/plain": [
       "<AxesSubplot:ylabel='Density'>"
      ]
     },
     "execution_count": 467,
     "metadata": {},
     "output_type": "execute_result"
    },
    {
     "data": {
      "image/png": "[encoded data removed]",
      "text/plain": [
       "<Figure size 432x288 with 1 Axes>"
      ]
     },
     "metadata": {
      "needs_background": "light"
     },
     "output_type": "display_data"
    }
   ],
   "source": [
    "sns.kdeplot(data = data_unscaled, legend = False)"
   ]
  },
  {
   "cell_type": "code",
   "execution_count": 468,
   "metadata": {},
   "outputs": [
    {
     "data": {
      "text/plain": [
       "<AxesSubplot:ylabel='Density'>"
      ]
     },
     "execution_count": 468,
     "metadata": {},
     "output_type": "execute_result"
    },
    {
     "data": {
      "image/png": "[encoded data removed]",
      "text/plain": [
       "<Figure size 432x288 with 1 Axes>"
      ]
     },
     "metadata": {
      "needs_background": "light"
     },
     "output_type": "display_data"
    }
   ],
   "source": [
    "sns.kdeplot(data = data_scaled)"
   ]
  },
  {
   "cell_type": "markdown",
   "metadata": {},
   "source": [
    "#### Регрессия"
   ]
  },
  {
   "cell_type": "code",
   "execution_count": 469,
   "metadata": {},
   "outputs": [],
   "source": [
    "from sklearn.model_selection import train_test_split\n",
    "\n",
    "\n",
    "# Для определённости будем всегда подставлять в random_state одно значение\n",
    "RANDOM_STATE_GLOBAL = 1\n",
    "# Указываем, где целевой признак, а где - набор данных\n",
    "\n",
    "y_column = \"fixed acidity\"\n",
    "# y_column = \"quality\"\n",
    "x_columns = data_unscaled.columns.tolist()\n",
    "x_columns.pop(x_columns.index(y_column))\n",
    "\n",
    "\n",
    "data_unscaled_x_train, data_unscaled_x_test, data_unscaled_y_train, data_unscaled_y_test = train_test_split(data_unscaled[x_columns], \n",
    "                                                                                                            data_unscaled[y_column], \n",
    "                                                                                                            test_size = 0.2, \n",
    "                                                                                                            random_state = RANDOM_STATE_GLOBAL)\n",
    "\n",
    "data_scaled_x_train, data_scaled_x_test, data_scaled_y_train, data_scaled_y_test = train_test_split(data_scaled[x_columns], \n",
    "                                                                                                            data_scaled[y_column], \n",
    "                                                                                                            test_size = 0.2, \n",
    "                                                                                                            random_state = RANDOM_STATE_GLOBAL)"
   ]
  },
  {
   "cell_type": "markdown",
   "metadata": {},
   "source": [
    "##### Получение произвольной модели"
   ]
  },
  {
   "cell_type": "code",
   "execution_count": 470,
   "metadata": {},
   "outputs": [],
   "source": [
    "from sklearn.neighbors import KNeighborsRegressor\n",
    "\n",
    "\n",
    "random_param = 15\n",
    "\n",
    "knn_unscaled = KNeighborsRegressor(n_neighbors = random_param)\n",
    "knn_scaled = KNeighborsRegressor(n_neighbors = random_param)\n",
    "\n",
    "knn_unscaled.fit(data_unscaled_x_train, data_unscaled_y_train)\n",
    "knn_scaled.fit(data_scaled_x_train, data_scaled_y_train)\n",
    "\n",
    "knn_unscaled_prediction = knn_unscaled.predict(data_unscaled_x_test)\n",
    "knn_scaled_prediction = knn_scaled.predict(data_scaled_x_test)"
   ]
  },
  {
   "cell_type": "code",
   "execution_count": 471,
   "metadata": {},
   "outputs": [],
   "source": [
    "from sklearn.metrics import mean_absolute_error, mean_squared_error, median_absolute_error, r2_score\n",
    "from sklearn.model_selection import ShuffleSplit, cross_val_score, cross_validate\n",
    "\n",
    "\n",
    "def print_regression_metrics(y_test, y_predicted):\n",
    "    abs_err = mean_absolute_error(y_test, y_predicted)\n",
    "    med_abs_err = median_absolute_error(y_test, y_predicted)\n",
    "    mean_sq_err = mean_squared_error(y_test, y_predicted, squared=False)\n",
    "    r2 = r2_score(y_test, y_predicted)\n",
    "\n",
    "    return f\"-Средняя абсолютная ошибка = {abs_err};\\\n",
    "          \\n-Медианная абсолютная ошибка = {med_abs_err};\\\n",
    "          \\n-Среднеквадратичная ошибка = {mean_sq_err};\\\n",
    "          \\n-Коэффициент детерминации = {r2}.\"\n"
   ]
  },
  {
   "cell_type": "code",
   "execution_count": 472,
   "metadata": {},
   "outputs": [
    {
     "name": "stdout",
     "output_type": "stream",
     "text": [
      "Для немасштабированных данных:\n",
      "-Средняя абсолютная ошибка = 0.9337117903930132;          \n",
      "-Медианная абсолютная ошибка = 0.6733333333333347;          \n",
      "-Среднеквадратичная ошибка = 1.3030409698256435;          \n",
      "-Коэффициент детерминации = 0.48034335910257353.\n"
     ]
    }
   ],
   "source": [
    "unscaled_results = print_regression_metrics(data_unscaled_y_test, knn_unscaled_prediction)\n",
    "print(\"Для немасштабированных данных:\\n\" + unscaled_results)"
   ]
  },
  {
   "cell_type": "code",
   "execution_count": 473,
   "metadata": {},
   "outputs": [
    {
     "name": "stdout",
     "output_type": "stream",
     "text": [
      "Для масштабированных данных:\n",
      "-Средняя абсолютная ошибка = 0.051172856204351365;          \n",
      "-Медианная абсолютная ошибка = 0.040117994100294985;          \n",
      "-Среднеквадратичная ошибка = 0.06825895007051318;          \n",
      "-Коэффициент детерминации = 0.8179140507244748.\n"
     ]
    }
   ],
   "source": [
    "scaled_results = print_regression_metrics(data_scaled_y_test, knn_scaled_prediction)\n",
    "print(\"Для масштабированных данных:\\n\" + scaled_results)"
   ]
  },
  {
   "cell_type": "code",
   "execution_count": 474,
   "metadata": {},
   "outputs": [],
   "source": [
    "def print_dictionary(dict):\n",
    "    for k, v in dict.items():\n",
    "        print(f\"\\n{k} -> {v}\")"
   ]
  },
  {
   "cell_type": "code",
   "execution_count": 475,
   "metadata": {},
   "outputs": [
    {
     "name": "stdout",
     "output_type": "stream",
     "text": [
      "Кросс-валидация для немасштабированных данных:\n",
      "\n",
      "fit_time -> [0.00141215 0.00101304 0.00108504 0.001158   0.00090289 0.00089121\n",
      " 0.00100994 0.000875  ]\n",
      "\n",
      "score_time -> [0.004071   0.00431728 0.00449395 0.00410008 0.00376081 0.00411296\n",
      " 0.00394011 0.00387406]\n",
      "\n",
      "test_neg_root_mean_squared_error -> [-1.39626202 -1.44587844 -1.51642493 -1.45415924 -1.50586796 -1.49622013\n",
      " -1.52830483 -1.53428592]\n",
      "\n",
      "test_r2 -> [0.32751969 0.28905716 0.25992897 0.28830724 0.26166938 0.26767021\n",
      " 0.26171954 0.24662078]\n",
      "\n",
      "\n",
      "Кросс-валидация для масштабированных данных:\n",
      "\n",
      "fit_time -> [0.00090194 0.00091577 0.0008781  0.0010159  0.00117517 0.00092077\n",
      " 0.00098705 0.00088668]\n",
      "\n",
      "score_time -> [0.00510311 0.00473619 0.00463104 0.00515008 0.00528288 0.00538492\n",
      " 0.00498986 0.00480103]\n",
      "\n",
      "test_neg_root_mean_squared_error -> [-0.07748939 -0.07989178 -0.08442376 -0.07777424 -0.08516609 -0.08251339\n",
      " -0.08758429 -0.08454686]\n",
      "\n",
      "test_r2 -> [0.73552351 0.72283898 0.70710107 0.74004567 0.69844439 0.71560533\n",
      " 0.69039303 0.70788568]\n"
     ]
    }
   ],
   "source": [
    "scoring_strategies = [\"neg_root_mean_squared_error\", \"r2\"] \n",
    "\n",
    "# Кросс-валидация по стратегии ShuffleSplit\n",
    "data_unscaled_cv_scores = cross_validate(KNeighborsRegressor(n_neighbors = random_param), data_unscaled[x_columns], data_unscaled[y_column], scoring = scoring_strategies, cv = ShuffleSplit(n_splits = 8, test_size = 0.8, random_state = RANDOM_STATE_GLOBAL))\n",
    "data_scaled_cv_scores = cross_validate(KNeighborsRegressor(n_neighbors = random_param), data_scaled[x_columns], data_scaled[y_column], scoring = scoring_strategies, cv = ShuffleSplit(n_splits = 8, test_size = 0.8, random_state = RANDOM_STATE_GLOBAL))\n",
    "\n",
    "print(\"Кросс-валидация для немасштабированных данных:\")\n",
    "print_dictionary(data_unscaled_cv_scores)\n",
    "\n",
    "print(\"\\n\\nКросс-валидация для масштабированных данных:\")\n",
    "print_dictionary(data_scaled_cv_scores)"
   ]
  },
  {
   "cell_type": "markdown",
   "metadata": {},
   "source": [
    "##### Получение оптимальной модели"
   ]
  },
  {
   "cell_type": "code",
   "execution_count": 476,
   "metadata": {},
   "outputs": [],
   "source": [
    "from sklearn.model_selection import GridSearchCV, RandomizedSearchCV, KFold\n",
    "\n",
    "tested_parametres = {\"n_neighbors\" : np.array(range(1, 41, 1))}"
   ]
  },
  {
   "cell_type": "code",
   "execution_count": 477,
   "metadata": {},
   "outputs": [
    {
     "name": "stdout",
     "output_type": "stream",
     "text": [
      "CPU times: user 723 ms, sys: 8.38 ms, total: 732 ms\n",
      "Wall time: 733 ms\n"
     ]
    },
    {
     "data": {
      "text/plain": [
       "RandomizedSearchCV(cv=KFold(n_splits=5, random_state=1, shuffle=True),\n",
       "                   estimator=KNeighborsRegressor(), n_iter=40,\n",
       "                   param_distributions={'n_neighbors': array([ 1,  2,  3,  4,  5,  6,  7,  8,  9, 10, 11, 12, 13, 14, 15, 16, 17,\n",
       "       18, 19, 20, 21, 22, 23, 24, 25, 26, 27, 28, 29, 30, 31, 32, 33, 34,\n",
       "       35, 36, 37, 38, 39, 40])},\n",
       "                   random_state=1, scoring='neg_root_mean_squared_error')"
      ]
     },
     "execution_count": 477,
     "metadata": {},
     "output_type": "execute_result"
    }
   ],
   "source": [
    "%%time\n",
    "# Кросс-валидация по стратегии KFold\n",
    "randomized_grid_search = RandomizedSearchCV(KNeighborsRegressor(), \n",
    "                                            tested_parametres, \n",
    "                                            n_iter = 40, \n",
    "                                            random_state = RANDOM_STATE_GLOBAL, \n",
    "                                            cv = KFold(shuffle = True, random_state = RANDOM_STATE_GLOBAL), \n",
    "                                            scoring = \"neg_root_mean_squared_error\")\n",
    "\n",
    "randomized_grid_search.fit(data_unscaled[x_columns], data_unscaled[y_column])"
   ]
  },
  {
   "cell_type": "code",
   "execution_count": 478,
   "metadata": {},
   "outputs": [
    {
     "name": "stdout",
     "output_type": "stream",
     "text": [
      "7 -1.1681855323422545\n"
     ]
    }
   ],
   "source": [
    "randomized_best_param = randomized_grid_search.best_params_.get(\"n_neighbors\")\n",
    "print(randomized_best_param, randomized_grid_search.best_score_)"
   ]
  },
  {
   "cell_type": "code",
   "execution_count": 479,
   "metadata": {},
   "outputs": [
    {
     "data": {
      "text/plain": [
       "GridSearchCV(cv=KFold(n_splits=5, random_state=1, shuffle=True),\n",
       "             estimator=KNeighborsRegressor(),\n",
       "             param_grid={'n_neighbors': array([ 4,  5,  6,  7,  8,  9, 10])},\n",
       "             scoring='neg_root_mean_squared_error')"
      ]
     },
     "execution_count": 479,
     "metadata": {},
     "output_type": "execute_result"
    }
   ],
   "source": [
    "# Ищем решение вокруг полученного значения с радиусом 10\n",
    "# Тоже перебираю так много из-за проблем с масштабированными данными\n",
    "gs_parametres = {\"n_neighbors\" : np.array(range(randomized_best_param - 3, randomized_best_param + 4))}\n",
    "\n",
    "# Прогоняем все решения в окрестности\n",
    "grid_search = GridSearchCV(KNeighborsRegressor(), gs_parametres, scoring = \"neg_root_mean_squared_error\", cv = KFold(shuffle = True, random_state = RANDOM_STATE_GLOBAL))\n",
    "# Обучаем оптимальную модель\n",
    "grid_search.fit(data_unscaled[x_columns], data_unscaled[y_column])"
   ]
  },
  {
   "cell_type": "code",
   "execution_count": 480,
   "metadata": {},
   "outputs": [
    {
     "name": "stdout",
     "output_type": "stream",
     "text": [
      "7 -1.1681855323422545\n"
     ]
    }
   ],
   "source": [
    "# Итоговые \"наилучшие\" параметр и показатель RMSE:\n",
    "best_param = grid_search.best_params_.get(\"n_neighbors\")\n",
    "print(best_param, grid_search.best_score_)"
   ]
  },
  {
   "cell_type": "code",
   "execution_count": 481,
   "metadata": {},
   "outputs": [],
   "source": [
    "# Обучаем оптимальную модель\n",
    "cv_found_knn_unscaled = KNeighborsRegressor(n_neighbors = best_param)\n",
    "cv_found_knn_unscaled.fit(data_unscaled_x_train, data_unscaled_y_train)\n",
    "cv_found_knn_unscaled_prediction = cv_found_knn_unscaled.predict(data_unscaled_x_test)\n",
    "\n",
    "cv_unscaled_results = print_regression_metrics(data_unscaled_y_test, cv_found_knn_unscaled_prediction)"
   ]
  },
  {
   "cell_type": "code",
   "execution_count": 482,
   "metadata": {},
   "outputs": [],
   "source": [
    "def print_results(random, optimum):\n",
    "    print(\"Немасштабированные данные\\n\")\n",
    "    print(\"Случайная модель:\\n\" + random)\n",
    "    print('------------------------------------------')\n",
    "    print(\"Оптимальная модель:\\n\" + optimum)"
   ]
  },
  {
   "cell_type": "code",
   "execution_count": 483,
   "metadata": {},
   "outputs": [
    {
     "name": "stdout",
     "output_type": "stream",
     "text": [
      "Немасштабированные данные\n",
      "\n",
      "Случайная модель:\n",
      "-Средняя абсолютная ошибка = 0.9337117903930132;          \n",
      "-Медианная абсолютная ошибка = 0.6733333333333347;          \n",
      "-Среднеквадратичная ошибка = 1.3030409698256435;          \n",
      "-Коэффициент детерминации = 0.48034335910257353.\n",
      "------------------------------------------\n",
      "Оптимальная модель:\n",
      "-Средняя абсолютная ошибка = 0.8537741734248284;          \n",
      "-Медианная абсолютная ошибка = 0.5857142857142845;          \n",
      "-Среднеквадратичная ошибка = 1.2386117898073419;          \n",
      "-Коэффициент детерминации = 0.5304619856518069.\n"
     ]
    }
   ],
   "source": [
    "print_results(unscaled_results, cv_unscaled_results)"
   ]
  },
  {
   "cell_type": "code",
   "execution_count": 484,
   "metadata": {},
   "outputs": [
    {
     "name": "stdout",
     "output_type": "stream",
     "text": [
      "5 -0.06991970951644243\n",
      "5 -0.06991970951644243\n"
     ]
    }
   ],
   "source": [
    "# Точно также прогоняем: тот же диапазон возможных значений K, тот же ключ генератора случ. чисел, \n",
    "#                        та же стратегия кросс-валидации, та же метрика.\n",
    "randomized_grid_search = RandomizedSearchCV(KNeighborsRegressor(), \n",
    "                                            tested_parametres, \n",
    "                                            n_iter = 40, \n",
    "                                            random_state = RANDOM_STATE_GLOBAL, \n",
    "                                            cv = KFold(shuffle = True, random_state = RANDOM_STATE_GLOBAL), \n",
    "                                            scoring = \"neg_root_mean_squared_error\")\n",
    "# Теперь работаем с масштабированными данными\n",
    "randomized_grid_search.fit(data_scaled[x_columns], data_scaled[y_column])\n",
    "\n",
    "# Найденное рабочее значение\n",
    "randomized_best_param = randomized_grid_search.best_params_.get(\"n_neighbors\")\n",
    "print(randomized_best_param, randomized_grid_search.best_score_)\n",
    "\n",
    "# Ищем оптимальное значение гиперпараметра\n",
    "gs_parametres = {\"n_neighbors\" : np.array(range(randomized_best_param - 3, randomized_best_param + 4))}\n",
    "grid_search = GridSearchCV(KNeighborsRegressor(), gs_parametres, scoring = \"neg_root_mean_squared_error\", cv = KFold(shuffle = True, random_state = RANDOM_STATE_GLOBAL))\n",
    "grid_search.fit(data_scaled[x_columns], data_scaled[y_column])\n",
    "\n",
    "# Найденное оптимальное значение\n",
    "best_param = grid_search.best_params_.get(\"n_neighbors\")\n",
    "print(best_param, grid_search.best_score_)\n",
    "\n",
    "# Обучаем оптимальную модель\n",
    "cv_found_knn_scaled = KNeighborsRegressor(n_neighbors = best_param)\n",
    "cv_found_knn_scaled.fit(data_scaled_x_train, data_scaled_y_train)\n",
    "cv_found_knn_scaled_prediction = cv_found_knn_scaled.predict(data_scaled_x_test)\n",
    "\n",
    "cv_scaled_results = print_regression_metrics(data_scaled_y_test, cv_found_knn_scaled_prediction)"
   ]
  },
  {
   "cell_type": "code",
   "execution_count": 485,
   "metadata": {},
   "outputs": [
    {
     "name": "stdout",
     "output_type": "stream",
     "text": [
      "Немасштабированные данные\n",
      "\n",
      "Случайная модель:\n",
      "-Средняя абсолютная ошибка = 0.051172856204351365;          \n",
      "-Медианная абсолютная ошибка = 0.040117994100294985;          \n",
      "-Среднеквадратичная ошибка = 0.06825895007051318;          \n",
      "-Коэффициент детерминации = 0.8179140507244748.\n",
      "------------------------------------------\n",
      "Оптимальная модель:\n",
      "-Средняя абсолютная ошибка = 0.048019476755419885;          \n",
      "-Медианная абсолютная ошибка = 0.033628318584070865;          \n",
      "-Среднеквадратичная ошибка = 0.06460724870773447;          \n",
      "-Коэффициент детерминации = 0.8368753018768951.\n"
     ]
    }
   ],
   "source": [
    "print_results(scaled_results, cv_scaled_results)"
   ]
  },
  {
   "cell_type": "markdown",
   "metadata": {},
   "source": [
    "> Как видно, подбор гиперпараметра K поспособствовал улучшению качества модели как для масштабированных данных, так для немасштабированных"
   ]
  },
  {
   "cell_type": "markdown",
   "metadata": {},
   "source": [
    "#### Классификация\n",
    "\n",
    "- Воспользуемся методом kNN также для решения задачи классификации для параметра \"quality\" "
   ]
  },
  {
   "cell_type": "code",
   "execution_count": 486,
   "metadata": {},
   "outputs": [],
   "source": [
    "# Для определённости будем всегда подставлять в random_state одно значение\n",
    "RANDOM_STATE_GLOBAL = 1\n",
    "# Указываем, где целевой признак, а где - набор данных\n",
    "\n",
    "data_scaled = df_scaled_cl.copy()\n",
    "data_unscaled = df_cl.copy()\n",
    "y_column = \"quality\"\n",
    "x_columns = data_unscaled.columns.tolist()\n",
    "x_columns.pop(x_columns.index(y_column))\n",
    "\n",
    "\n",
    "data_unscaled_x_train, data_unscaled_x_test, data_unscaled_y_train, data_unscaled_y_test = train_test_split(data_unscaled[x_columns], \n",
    "                                                                                                            data_unscaled[y_column], \n",
    "                                                                                                            test_size = 0.2, \n",
    "                                                                                                            random_state = RANDOM_STATE_GLOBAL)\n",
    "\n",
    "data_scaled_x_train, data_scaled_x_test, data_scaled_y_train, data_scaled_y_test = train_test_split(data_scaled[x_columns], \n",
    "                                                                                                            data_scaled[y_column], \n",
    "                                                                                                            test_size = 0.2, \n",
    "                                                                                                            random_state = RANDOM_STATE_GLOBAL)"
   ]
  },
  {
   "cell_type": "markdown",
   "metadata": {},
   "source": [
    "##### Получение произвольной модели"
   ]
  },
  {
   "cell_type": "code",
   "execution_count": 487,
   "metadata": {},
   "outputs": [],
   "source": [
    "from sklearn.neighbors import KNeighborsClassifier\n",
    "\n",
    "\n",
    "random_param = 15\n",
    "\n",
    "knn_unscaled = KNeighborsClassifier(n_neighbors = random_param)\n",
    "knn_scaled = KNeighborsClassifier(n_neighbors = random_param)\n",
    "\n",
    "knn_unscaled.fit(data_unscaled_x_train, data_unscaled_y_train)\n",
    "knn_scaled.fit(data_scaled_x_train, data_scaled_y_train)\n",
    "\n",
    "knn_unscaled_prediction = knn_unscaled.predict(data_unscaled_x_test)\n",
    "knn_scaled_prediction = knn_scaled.predict(data_scaled_x_test)"
   ]
  },
  {
   "cell_type": "markdown",
   "metadata": {},
   "source": [
    "- Создадим метод, для вывода методов оценки модели"
   ]
  },
  {
   "cell_type": "code",
   "execution_count": 488,
   "metadata": {},
   "outputs": [],
   "source": [
    "from sklearn.metrics import accuracy_score\n",
    "from sklearn.metrics import confusion_matrix\n",
    "from sklearn.metrics import precision_score, recall_score, f1_score\n",
    "\n",
    "def print_classification_metrics(y_test, y_predicted):\n",
    "    acc_score = accuracy_score(y_test, y_predicted)\n",
    "    prec_score = precision_score(y_test, y_predicted, average='weighted')\n",
    "    rec_score = recall_score(y_test, y_predicted, average='weighted')\n",
    "    f1 = f1_score(y_test, y_predicted, average='weighted')\n",
    "\n",
    "    return f\"-Accuracy = {acc_score};\\\n",
    "          \\n-Precision= {prec_score};\\\n",
    "          \\n-Recall = {rec_score};\\\n",
    "          \\n-f1 = {f1}.\"\n"
   ]
  },
  {
   "cell_type": "code",
   "execution_count": 489,
   "metadata": {},
   "outputs": [
    {
     "name": "stdout",
     "output_type": "stream",
     "text": [
      "Для немасштабированных данных:\n",
      "-Accuracy = 0.5807860262008734;          \n",
      "-Precision= 0.5412787344483809;          \n",
      "-Recall = 0.5807860262008734;          \n",
      "-f1 = 0.5579432160980076.\n"
     ]
    },
    {
     "name": "stderr",
     "output_type": "stream",
     "text": [
      "/Users/feelsbadmans/Univer/bmstu-6-sem-tmo/.venv/lib/python3.8/site-packages/sklearn/metrics/_classification.py:1318: UndefinedMetricWarning: Precision is ill-defined and being set to 0.0 in labels with no predicted samples. Use `zero_division` parameter to control this behavior.\n",
      "  _warn_prf(average, modifier, msg_start, len(result))\n"
     ]
    }
   ],
   "source": [
    "unscaled_results = print_classification_metrics(data_unscaled_y_test, knn_unscaled_prediction)\n",
    "print(\"Для немасштабированных данных:\\n\" + unscaled_results)"
   ]
  },
  {
   "cell_type": "code",
   "execution_count": 490,
   "metadata": {},
   "outputs": [
    {
     "name": "stdout",
     "output_type": "stream",
     "text": [
      "Для масштабированных данных:\n",
      "-Accuracy = 0.5895196506550219;          \n",
      "-Precision= 0.5693327204474067;          \n",
      "-Recall = 0.5895196506550219;          \n",
      "-f1 = 0.5735453609940674.\n"
     ]
    },
    {
     "name": "stderr",
     "output_type": "stream",
     "text": [
      "/Users/feelsbadmans/Univer/bmstu-6-sem-tmo/.venv/lib/python3.8/site-packages/sklearn/metrics/_classification.py:1318: UndefinedMetricWarning: Precision is ill-defined and being set to 0.0 in labels with no predicted samples. Use `zero_division` parameter to control this behavior.\n",
      "  _warn_prf(average, modifier, msg_start, len(result))\n"
     ]
    }
   ],
   "source": [
    "scaled_results = print_classification_metrics(data_scaled_y_test, knn_scaled_prediction)\n",
    "print(\"Для масштабированных данных:\\n\" + scaled_results)"
   ]
  },
  {
   "cell_type": "markdown",
   "metadata": {},
   "source": [
    "> Точность классификации получилась не очень высокой"
   ]
  },
  {
   "cell_type": "markdown",
   "metadata": {},
   "source": [
    "##### Получение оптимальной модели"
   ]
  },
  {
   "cell_type": "code",
   "execution_count": 491,
   "metadata": {},
   "outputs": [],
   "source": [
    "from sklearn.model_selection import GridSearchCV, RandomizedSearchCV, KFold\n",
    "\n",
    "tested_parametres = {\"n_neighbors\" : np.array(range(1, 51, 1))}"
   ]
  },
  {
   "cell_type": "code",
   "execution_count": 492,
   "metadata": {},
   "outputs": [
    {
     "name": "stdout",
     "output_type": "stream",
     "text": [
      "CPU times: user 1.59 s, sys: 8.53 ms, total: 1.6 s\n",
      "Wall time: 1.6 s\n"
     ]
    },
    {
     "data": {
      "text/plain": [
       "RandomizedSearchCV(cv=KFold(n_splits=5, random_state=1, shuffle=True),\n",
       "                   estimator=KNeighborsClassifier(), n_iter=50,\n",
       "                   param_distributions={'n_neighbors': array([ 1,  2,  3,  4,  5,  6,  7,  8,  9, 10, 11, 12, 13, 14, 15, 16, 17,\n",
       "       18, 19, 20, 21, 22, 23, 24, 25, 26, 27, 28, 29, 30, 31, 32, 33, 34,\n",
       "       35, 36, 37, 38, 39, 40, 41, 42, 43, 44, 45, 46, 47, 48, 49, 50])},\n",
       "                   random_state=1, scoring='neg_root_mean_squared_error')"
      ]
     },
     "execution_count": 492,
     "metadata": {},
     "output_type": "execute_result"
    }
   ],
   "source": [
    "%%time\n",
    "# Кросс-валидация по стратегии KFold\n",
    "randomized_grid_search = RandomizedSearchCV(KNeighborsClassifier(), \n",
    "                                            tested_parametres, \n",
    "                                            n_iter = 50, \n",
    "                                            random_state = RANDOM_STATE_GLOBAL, \n",
    "                                            cv = KFold(shuffle = True, random_state = RANDOM_STATE_GLOBAL), \n",
    "                                            scoring = \"neg_root_mean_squared_error\")\n",
    "\n",
    "randomized_grid_search.fit(data_unscaled[x_columns], data_unscaled[y_column])"
   ]
  },
  {
   "cell_type": "code",
   "execution_count": 493,
   "metadata": {},
   "outputs": [
    {
     "name": "stdout",
     "output_type": "stream",
     "text": [
      "21 -0.7278064368998173\n"
     ]
    }
   ],
   "source": [
    "randomized_best_param = randomized_grid_search.best_params_.get(\"n_neighbors\")\n",
    "print(randomized_best_param, randomized_grid_search.best_score_)"
   ]
  },
  {
   "cell_type": "code",
   "execution_count": 494,
   "metadata": {},
   "outputs": [
    {
     "data": {
      "text/plain": [
       "GridSearchCV(cv=KFold(n_splits=5, random_state=1, shuffle=True),\n",
       "             estimator=KNeighborsClassifier(),\n",
       "             param_grid={'n_neighbors': array([18, 19, 20, 21, 22, 23, 24])},\n",
       "             scoring='neg_root_mean_squared_error')"
      ]
     },
     "execution_count": 494,
     "metadata": {},
     "output_type": "execute_result"
    }
   ],
   "source": [
    "gs_parametres = {\"n_neighbors\": np.array(\n",
    "    range(randomized_best_param - 3, randomized_best_param + 4))}\n",
    "\n",
    "grid_search = GridSearchCV(KNeighborsClassifier(), gs_parametres, scoring=\"neg_root_mean_squared_error\", cv=KFold(\n",
    "    shuffle=True, random_state=RANDOM_STATE_GLOBAL))\n",
    "\n",
    "grid_search.fit(data_unscaled[x_columns], data_unscaled[y_column])\n"
   ]
  },
  {
   "cell_type": "code",
   "execution_count": 495,
   "metadata": {},
   "outputs": [
    {
     "name": "stdout",
     "output_type": "stream",
     "text": [
      "21 -0.7278064368998173\n"
     ]
    }
   ],
   "source": [
    "# Итоговые \"наилучшие\" параметр и показатель RMSE:\n",
    "best_param = grid_search.best_params_.get(\"n_neighbors\")\n",
    "print(best_param, grid_search.best_score_)"
   ]
  },
  {
   "cell_type": "code",
   "execution_count": 496,
   "metadata": {},
   "outputs": [
    {
     "name": "stderr",
     "output_type": "stream",
     "text": [
      "/Users/feelsbadmans/Univer/bmstu-6-sem-tmo/.venv/lib/python3.8/site-packages/sklearn/metrics/_classification.py:1318: UndefinedMetricWarning: Precision is ill-defined and being set to 0.0 in labels with no predicted samples. Use `zero_division` parameter to control this behavior.\n",
      "  _warn_prf(average, modifier, msg_start, len(result))\n"
     ]
    }
   ],
   "source": [
    "cv_found_knn_unscaled = KNeighborsClassifier(n_neighbors = best_param)\n",
    "cv_found_knn_unscaled.fit(data_unscaled_x_train, data_unscaled_y_train)\n",
    "cv_found_knn_unscaled_prediction = cv_found_knn_unscaled.predict(data_unscaled_x_test)\n",
    "\n",
    "cv_unscaled_results = print_classification_metrics(data_unscaled_y_test, cv_found_knn_unscaled_prediction)"
   ]
  },
  {
   "cell_type": "code",
   "execution_count": 497,
   "metadata": {},
   "outputs": [
    {
     "name": "stdout",
     "output_type": "stream",
     "text": [
      "Немасштабированные данные\n",
      "\n",
      "Случайная модель:\n",
      "-Accuracy = 0.5807860262008734;          \n",
      "-Precision= 0.5412787344483809;          \n",
      "-Recall = 0.5807860262008734;          \n",
      "-f1 = 0.5579432160980076.\n",
      "------------------------------------------\n",
      "Оптимальная модель:\n",
      "-Accuracy = 0.5895196506550219;          \n",
      "-Precision= 0.5511861950020183;          \n",
      "-Recall = 0.5895196506550219;          \n",
      "-f1 = 0.5665738230206169.\n"
     ]
    }
   ],
   "source": [
    "print_results(unscaled_results, cv_unscaled_results)"
   ]
  },
  {
   "cell_type": "code",
   "execution_count": 498,
   "metadata": {},
   "outputs": [
    {
     "name": "stdout",
     "output_type": "stream",
     "text": [
      "7 -0.7223710944776716\n",
      "7 -0.7223710944776716\n"
     ]
    },
    {
     "name": "stderr",
     "output_type": "stream",
     "text": [
      "/Users/feelsbadmans/Univer/bmstu-6-sem-tmo/.venv/lib/python3.8/site-packages/sklearn/metrics/_classification.py:1318: UndefinedMetricWarning: Precision is ill-defined and being set to 0.0 in labels with no predicted samples. Use `zero_division` parameter to control this behavior.\n",
      "  _warn_prf(average, modifier, msg_start, len(result))\n"
     ]
    }
   ],
   "source": [
    "randomized_grid_search = RandomizedSearchCV(KNeighborsClassifier(),\n",
    "                                            tested_parametres,\n",
    "                                            n_iter=50,\n",
    "                                            random_state=RANDOM_STATE_GLOBAL,\n",
    "                                            cv=KFold(\n",
    "                                                shuffle=True, random_state=RANDOM_STATE_GLOBAL),\n",
    "                                            scoring=\"neg_root_mean_squared_error\")\n",
    "\n",
    "randomized_grid_search.fit(data_scaled[x_columns], data_scaled[y_column])\n",
    "\n",
    "randomized_best_param = randomized_grid_search.best_params_.get(\"n_neighbors\")\n",
    "print(randomized_best_param, randomized_grid_search.best_score_)\n",
    "\n",
    "gs_parametres = {\"n_neighbors\": np.array(\n",
    "    range(randomized_best_param - 3, randomized_best_param + 4))}\n",
    "grid_search = GridSearchCV(KNeighborsClassifier(), gs_parametres, scoring=\"neg_root_mean_squared_error\", cv=KFold(\n",
    "    shuffle=True, random_state=RANDOM_STATE_GLOBAL))\n",
    "grid_search.fit(data_scaled[x_columns], data_scaled[y_column])\n",
    "\n",
    "best_param = grid_search.best_params_.get(\"n_neighbors\")\n",
    "print(best_param, grid_search.best_score_)\n",
    "\n",
    "cv_found_knn_scaled = KNeighborsClassifier(n_neighbors=best_param)\n",
    "cv_found_knn_scaled.fit(data_scaled_x_train, data_scaled_y_train)\n",
    "cv_found_knn_scaled_prediction = cv_found_knn_scaled.predict(\n",
    "    data_scaled_x_test)\n",
    "\n",
    "cv_scaled_results = print_classification_metrics(\n",
    "    data_scaled_y_test, cv_found_knn_scaled_prediction)\n"
   ]
  },
  {
   "cell_type": "code",
   "execution_count": 499,
   "metadata": {},
   "outputs": [
    {
     "name": "stdout",
     "output_type": "stream",
     "text": [
      "Немасштабированные данные\n",
      "\n",
      "Случайная модель:\n",
      "-Accuracy = 0.5895196506550219;          \n",
      "-Precision= 0.5693327204474067;          \n",
      "-Recall = 0.5895196506550219;          \n",
      "-f1 = 0.5735453609940674.\n",
      "------------------------------------------\n",
      "Оптимальная модель:\n",
      "-Accuracy = 0.6462882096069869;          \n",
      "-Precision= 0.6220353771376524;          \n",
      "-Recall = 0.6462882096069869;          \n",
      "-f1 = 0.6308853374341962.\n"
     ]
    }
   ],
   "source": [
    "print_results(scaled_results, cv_scaled_results)"
   ]
  },
  {
   "cell_type": "code",
   "execution_count": 502,
   "metadata": {},
   "outputs": [
    {
     "data": {
      "text/plain": [
       "<AxesSubplot:>"
      ]
     },
     "execution_count": 502,
     "metadata": {},
     "output_type": "execute_result"
    },
    {
     "data": {
      "image/png": "[encoded data removed]",
      "text/plain": [
       "<Figure size 432x288 with 2 Axes>"
      ]
     },
     "metadata": {
      "needs_background": "light"
     },
     "output_type": "display_data"
    }
   ],
   "source": [
    "cm = confusion_matrix(data_scaled_y_test, cv_found_knn_scaled_prediction, labels=range(9))\n",
    "\n",
    "sns.heatmap(cm, annot=True, cmap=plt.cm.Blues)"
   ]
  },
  {
   "cell_type": "markdown",
   "metadata": {},
   "source": [
    "> С помощью подбора гиперпараметра удалось немного повысить качество модели"
   ]
  }
 ],
 "metadata": {
  "interpreter": {
   "hash": "97e4cb6d77676196de7f55ea8da0ba12704d556b73a4ca90e22d9e14525e4819"
  },
  "kernelspec": {
   "display_name": "Python 3.8.9 ('.venv': venv)",
   "language": "python",
   "name": "python3"
  },
  "language_info": {
   "codemirror_mode": {
    "name": "ipython",
    "version": 3
   },
   "file_extension": ".py",
   "mimetype": "text/x-python",
   "name": "python",
   "nbconvert_exporter": "python",
   "pygments_lexer": "ipython3",
   "version": "3.8.9"
  },
  "orig_nbformat": 4
 },
 "nbformat": 4,
 "nbformat_minor": 2
}
